{
 "cells": [
  {
   "cell_type": "code",
   "execution_count": 164,
   "id": "41ad1bb7",
   "metadata": {},
   "outputs": [],
   "source": [
    "import pandas as pd\n",
    "from pandas import DataFrame\n",
    "import numpy as np\n",
    "import matplotlib.pyplot as plt\n",
    "import seaborn as sns"
   ]
  },
  {
   "cell_type": "code",
   "execution_count": 148,
   "id": "37b5f03e",
   "metadata": {},
   "outputs": [
    {
     "data": {
      "text/html": [
       "<div>\n",
       "<style scoped>\n",
       "    .dataframe tbody tr th:only-of-type {\n",
       "        vertical-align: middle;\n",
       "    }\n",
       "\n",
       "    .dataframe tbody tr th {\n",
       "        vertical-align: top;\n",
       "    }\n",
       "\n",
       "    .dataframe thead th {\n",
       "        text-align: right;\n",
       "    }\n",
       "</style>\n",
       "<table border=\"1\" class=\"dataframe\">\n",
       "  <thead>\n",
       "    <tr style=\"text-align: right;\">\n",
       "      <th></th>\n",
       "      <th>VisitID</th>\n",
       "      <th>PatientMRN</th>\n",
       "      <th>ProviderID</th>\n",
       "      <th>DateofVisit</th>\n",
       "      <th>DateScheduled</th>\n",
       "      <th>VisitDepartmentID</th>\n",
       "      <th>VisitType</th>\n",
       "      <th>BloodPressureSystolic</th>\n",
       "      <th>BloodPressureDiastolic</th>\n",
       "      <th>Pulse</th>\n",
       "      <th>VisitStatus</th>\n",
       "    </tr>\n",
       "  </thead>\n",
       "  <tbody>\n",
       "    <tr>\n",
       "      <th>0</th>\n",
       "      <td>202</td>\n",
       "      <td>840</td>\n",
       "      <td>29</td>\n",
       "      <td>2019-03-19</td>\n",
       "      <td>2019-03-13 07:59:24.000</td>\n",
       "      <td>10</td>\n",
       "      <td>Physical</td>\n",
       "      <td>188.0</td>\n",
       "      <td>144.143427</td>\n",
       "      <td>83.044920</td>\n",
       "      <td>No Show</td>\n",
       "    </tr>\n",
       "    <tr>\n",
       "      <th>1</th>\n",
       "      <td>436</td>\n",
       "      <td>820</td>\n",
       "      <td>25</td>\n",
       "      <td>2019-03-19</td>\n",
       "      <td>2019-02-24 07:10:31.043</td>\n",
       "      <td>3</td>\n",
       "      <td>Follow Up</td>\n",
       "      <td>179.0</td>\n",
       "      <td>118.876808</td>\n",
       "      <td>90.309544</td>\n",
       "      <td>No Show</td>\n",
       "    </tr>\n",
       "    <tr>\n",
       "      <th>2</th>\n",
       "      <td>794</td>\n",
       "      <td>879</td>\n",
       "      <td>30</td>\n",
       "      <td>2019-04-02</td>\n",
       "      <td>2019-03-19 01:41:55.656</td>\n",
       "      <td>11</td>\n",
       "      <td>Telemedicine</td>\n",
       "      <td>133.0</td>\n",
       "      <td>98.749563</td>\n",
       "      <td>80.859776</td>\n",
       "      <td>No Show</td>\n",
       "    </tr>\n",
       "    <tr>\n",
       "      <th>3</th>\n",
       "      <td>799</td>\n",
       "      <td>884</td>\n",
       "      <td>37</td>\n",
       "      <td>2019-03-03</td>\n",
       "      <td>2019-02-25 01:25:39.696</td>\n",
       "      <td>4</td>\n",
       "      <td>Telemedicine</td>\n",
       "      <td>132.0</td>\n",
       "      <td>98.001270</td>\n",
       "      <td>82.184737</td>\n",
       "      <td>No Show</td>\n",
       "    </tr>\n",
       "    <tr>\n",
       "      <th>4</th>\n",
       "      <td>515</td>\n",
       "      <td>32</td>\n",
       "      <td>26</td>\n",
       "      <td>2019-03-16</td>\n",
       "      <td>2019-02-20 06:44:59.617</td>\n",
       "      <td>11</td>\n",
       "      <td>Telemedicine</td>\n",
       "      <td>131.0</td>\n",
       "      <td>85.115632</td>\n",
       "      <td>89.192362</td>\n",
       "      <td>No Show</td>\n",
       "    </tr>\n",
       "    <tr>\n",
       "      <th>5</th>\n",
       "      <td>809</td>\n",
       "      <td>894</td>\n",
       "      <td>31</td>\n",
       "      <td>2019-03-13</td>\n",
       "      <td>2019-02-28 10:28:01.091</td>\n",
       "      <td>2</td>\n",
       "      <td>Physical</td>\n",
       "      <td>121.0</td>\n",
       "      <td>57.692485</td>\n",
       "      <td>60.402573</td>\n",
       "      <td>No Show</td>\n",
       "    </tr>\n",
       "    <tr>\n",
       "      <th>6</th>\n",
       "      <td>491</td>\n",
       "      <td>875</td>\n",
       "      <td>23</td>\n",
       "      <td>2019-01-09</td>\n",
       "      <td>2019-01-08 03:49:56.264</td>\n",
       "      <td>6</td>\n",
       "      <td>Follow Up</td>\n",
       "      <td>175.0</td>\n",
       "      <td>132.883861</td>\n",
       "      <td>55.000807</td>\n",
       "      <td>No Show</td>\n",
       "    </tr>\n",
       "    <tr>\n",
       "      <th>7</th>\n",
       "      <td>194</td>\n",
       "      <td>832</td>\n",
       "      <td>11</td>\n",
       "      <td>2019-03-11</td>\n",
       "      <td>2019-03-03 15:38:54.164</td>\n",
       "      <td>2</td>\n",
       "      <td>Telemedicine</td>\n",
       "      <td>177.0</td>\n",
       "      <td>146.238936</td>\n",
       "      <td>59.087923</td>\n",
       "      <td>No Show</td>\n",
       "    </tr>\n",
       "    <tr>\n",
       "      <th>8</th>\n",
       "      <td>811</td>\n",
       "      <td>896</td>\n",
       "      <td>23</td>\n",
       "      <td>2019-03-15</td>\n",
       "      <td>2019-03-11 05:04:41.511</td>\n",
       "      <td>4</td>\n",
       "      <td>Physical</td>\n",
       "      <td>140.0</td>\n",
       "      <td>74.519839</td>\n",
       "      <td>85.051919</td>\n",
       "      <td>No Show</td>\n",
       "    </tr>\n",
       "    <tr>\n",
       "      <th>9</th>\n",
       "      <td>726</td>\n",
       "      <td>878</td>\n",
       "      <td>16</td>\n",
       "      <td>2019-04-04</td>\n",
       "      <td>2019-03-10 15:52:39.962</td>\n",
       "      <td>9</td>\n",
       "      <td>Telemedicine</td>\n",
       "      <td>183.0</td>\n",
       "      <td>122.982498</td>\n",
       "      <td>68.800091</td>\n",
       "      <td>No Show</td>\n",
       "    </tr>\n",
       "  </tbody>\n",
       "</table>\n",
       "</div>"
      ],
      "text/plain": [
       "   VisitID  PatientMRN  ProviderID DateofVisit           DateScheduled  \\\n",
       "0      202         840          29  2019-03-19 2019-03-13 07:59:24.000   \n",
       "1      436         820          25  2019-03-19 2019-02-24 07:10:31.043   \n",
       "2      794         879          30  2019-04-02 2019-03-19 01:41:55.656   \n",
       "3      799         884          37  2019-03-03 2019-02-25 01:25:39.696   \n",
       "4      515          32          26  2019-03-16 2019-02-20 06:44:59.617   \n",
       "5      809         894          31  2019-03-13 2019-02-28 10:28:01.091   \n",
       "6      491         875          23  2019-01-09 2019-01-08 03:49:56.264   \n",
       "7      194         832          11  2019-03-11 2019-03-03 15:38:54.164   \n",
       "8      811         896          23  2019-03-15 2019-03-11 05:04:41.511   \n",
       "9      726         878          16  2019-04-04 2019-03-10 15:52:39.962   \n",
       "\n",
       "   VisitDepartmentID     VisitType  BloodPressureSystolic  \\\n",
       "0                 10      Physical                  188.0   \n",
       "1                  3     Follow Up                  179.0   \n",
       "2                 11  Telemedicine                  133.0   \n",
       "3                  4  Telemedicine                  132.0   \n",
       "4                 11  Telemedicine                  131.0   \n",
       "5                  2      Physical                  121.0   \n",
       "6                  6     Follow Up                  175.0   \n",
       "7                  2  Telemedicine                  177.0   \n",
       "8                  4      Physical                  140.0   \n",
       "9                  9  Telemedicine                  183.0   \n",
       "\n",
       "   BloodPressureDiastolic      Pulse VisitStatus  \n",
       "0              144.143427  83.044920     No Show  \n",
       "1              118.876808  90.309544     No Show  \n",
       "2               98.749563  80.859776     No Show  \n",
       "3               98.001270  82.184737     No Show  \n",
       "4               85.115632  89.192362     No Show  \n",
       "5               57.692485  60.402573     No Show  \n",
       "6              132.883861  55.000807     No Show  \n",
       "7              146.238936  59.087923     No Show  \n",
       "8               74.519839  85.051919     No Show  \n",
       "9              122.982498  68.800091     No Show  "
      ]
     },
     "execution_count": 148,
     "metadata": {},
     "output_type": "execute_result"
    }
   ],
   "source": [
    "dfav = pd.read_excel(\"HospitalDatabase.xlsx\", sheet_name = \"AmbulatoryVisits\")\n",
    "#Top 10 rows in the DataFrame\n",
    "dfav.head(10)"
   ]
  },
  {
   "cell_type": "code",
   "execution_count": 149,
   "id": "64560dfa",
   "metadata": {},
   "outputs": [
    {
     "data": {
      "text/html": [
       "<div>\n",
       "<style scoped>\n",
       "    .dataframe tbody tr th:only-of-type {\n",
       "        vertical-align: middle;\n",
       "    }\n",
       "\n",
       "    .dataframe tbody tr th {\n",
       "        vertical-align: top;\n",
       "    }\n",
       "\n",
       "    .dataframe thead th {\n",
       "        text-align: right;\n",
       "    }\n",
       "</style>\n",
       "<table border=\"1\" class=\"dataframe\">\n",
       "  <thead>\n",
       "    <tr style=\"text-align: right;\">\n",
       "      <th></th>\n",
       "      <th>VisitID</th>\n",
       "      <th>PatientMRN</th>\n",
       "      <th>ProviderID</th>\n",
       "      <th>DateofVisit</th>\n",
       "      <th>DateScheduled</th>\n",
       "      <th>VisitDepartmentID</th>\n",
       "      <th>VisitType</th>\n",
       "      <th>BloodPressureSystolic</th>\n",
       "      <th>BloodPressureDiastolic</th>\n",
       "      <th>Pulse</th>\n",
       "      <th>VisitStatus</th>\n",
       "    </tr>\n",
       "  </thead>\n",
       "  <tbody>\n",
       "    <tr>\n",
       "      <th>945</th>\n",
       "      <td>788</td>\n",
       "      <td>873</td>\n",
       "      <td>1</td>\n",
       "      <td>2019-03-27</td>\n",
       "      <td>2019-03-10 17:19:48.264</td>\n",
       "      <td>5</td>\n",
       "      <td>Telemedicine</td>\n",
       "      <td>187.0</td>\n",
       "      <td>126.695141</td>\n",
       "      <td>70.049167</td>\n",
       "      <td>Canceled</td>\n",
       "    </tr>\n",
       "    <tr>\n",
       "      <th>946</th>\n",
       "      <td>703</td>\n",
       "      <td>855</td>\n",
       "      <td>36</td>\n",
       "      <td>2019-03-12</td>\n",
       "      <td>2019-02-19 02:27:52.664</td>\n",
       "      <td>10</td>\n",
       "      <td>Follow Up</td>\n",
       "      <td>182.0</td>\n",
       "      <td>140.703502</td>\n",
       "      <td>73.380812</td>\n",
       "      <td>Canceled</td>\n",
       "    </tr>\n",
       "    <tr>\n",
       "      <th>947</th>\n",
       "      <td>481</td>\n",
       "      <td>865</td>\n",
       "      <td>13</td>\n",
       "      <td>2019-05-03</td>\n",
       "      <td>2019-04-25 13:37:57.501</td>\n",
       "      <td>12</td>\n",
       "      <td>New</td>\n",
       "      <td>150.0</td>\n",
       "      <td>84.841197</td>\n",
       "      <td>61.625454</td>\n",
       "      <td>Canceled</td>\n",
       "    </tr>\n",
       "    <tr>\n",
       "      <th>948</th>\n",
       "      <td>398</td>\n",
       "      <td>635</td>\n",
       "      <td>10</td>\n",
       "      <td>2019-02-09</td>\n",
       "      <td>2019-02-08 11:40:35.137</td>\n",
       "      <td>1</td>\n",
       "      <td>Physical</td>\n",
       "      <td>177.0</td>\n",
       "      <td>125.037534</td>\n",
       "      <td>53.287036</td>\n",
       "      <td>Canceled</td>\n",
       "    </tr>\n",
       "    <tr>\n",
       "      <th>949</th>\n",
       "      <td>695</td>\n",
       "      <td>847</td>\n",
       "      <td>24</td>\n",
       "      <td>2019-03-04</td>\n",
       "      <td>2019-02-05 05:29:30.587</td>\n",
       "      <td>12</td>\n",
       "      <td>Follow Up</td>\n",
       "      <td>165.0</td>\n",
       "      <td>116.879318</td>\n",
       "      <td>56.180317</td>\n",
       "      <td>Canceled</td>\n",
       "    </tr>\n",
       "  </tbody>\n",
       "</table>\n",
       "</div>"
      ],
      "text/plain": [
       "     VisitID  PatientMRN  ProviderID DateofVisit           DateScheduled  \\\n",
       "945      788         873           1  2019-03-27 2019-03-10 17:19:48.264   \n",
       "946      703         855          36  2019-03-12 2019-02-19 02:27:52.664   \n",
       "947      481         865          13  2019-05-03 2019-04-25 13:37:57.501   \n",
       "948      398         635          10  2019-02-09 2019-02-08 11:40:35.137   \n",
       "949      695         847          24  2019-03-04 2019-02-05 05:29:30.587   \n",
       "\n",
       "     VisitDepartmentID     VisitType  BloodPressureSystolic  \\\n",
       "945                  5  Telemedicine                  187.0   \n",
       "946                 10     Follow Up                  182.0   \n",
       "947                 12           New                  150.0   \n",
       "948                  1      Physical                  177.0   \n",
       "949                 12     Follow Up                  165.0   \n",
       "\n",
       "     BloodPressureDiastolic      Pulse VisitStatus  \n",
       "945              126.695141  70.049167    Canceled  \n",
       "946              140.703502  73.380812    Canceled  \n",
       "947               84.841197  61.625454    Canceled  \n",
       "948              125.037534  53.287036    Canceled  \n",
       "949              116.879318  56.180317    Canceled  "
      ]
     },
     "execution_count": 149,
     "metadata": {},
     "output_type": "execute_result"
    }
   ],
   "source": [
    "#Botton rows \n",
    "dfav.tail()"
   ]
  },
  {
   "cell_type": "code",
   "execution_count": 150,
   "id": "0232ee68",
   "metadata": {},
   "outputs": [
    {
     "data": {
      "text/plain": [
       "(950, 11)"
      ]
     },
     "execution_count": 150,
     "metadata": {},
     "output_type": "execute_result"
    }
   ],
   "source": [
    "#(Rows,Columns)\n",
    "dfav.shape"
   ]
  },
  {
   "cell_type": "markdown",
   "id": "673d4dbd",
   "metadata": {},
   "source": [
    "# Subsetting columns                                                                                           \n",
    "When working with data, you may not need all of the variables in your dataset. Square brackets ([]) can be used to select only the columns that matter to you in an order that makes sense to you. \n",
    "To select only \"col1\" of the DataFrame df,\n",
    "\n",
    "df[\"col1\"]\n",
    "\n",
    "To select \"col1\" and \"col2\" of df,\n",
    "\n",
    "df[[\"col1\", \"col2\"]]"
   ]
  },
  {
   "cell_type": "code",
   "execution_count": 151,
   "id": "4448ed50",
   "metadata": {},
   "outputs": [
    {
     "name": "stdout",
     "output_type": "stream",
     "text": [
      "      VisitType\n",
      "0      Physical\n",
      "1     Follow Up\n",
      "2  Telemedicine\n",
      "3  Telemedicine\n",
      "4  Telemedicine\n"
     ]
    }
   ],
   "source": [
    "# Select the VisitType column\n",
    "VisitType =dfav[[\"VisitType\"]]\n",
    "\n",
    "# Print the head of the result\n",
    "print(VisitType.head())"
   ]
  },
  {
   "cell_type": "code",
   "execution_count": 152,
   "id": "eeca13ce",
   "metadata": {
    "scrolled": true
   },
   "outputs": [
    {
     "name": "stdout",
     "output_type": "stream",
     "text": [
      "   BloodPressureSystolic  BloodPressureDiastolic\n",
      "0                  188.0              144.143427\n",
      "1                  179.0              118.876808\n",
      "2                  133.0               98.749563\n",
      "3                  132.0               98.001270\n",
      "4                  131.0               85.115632\n"
     ]
    }
   ],
   "source": [
    "# Select the BPS and BPD columns\n",
    "BP = dfav[[\"BloodPressureSystolic\", \"BloodPressureDiastolic\"]]\n",
    "\n",
    "# Print the head of the result\n",
    "print(BP.head())"
   ]
  },
  {
   "cell_type": "markdown",
   "id": "7fec31f8",
   "metadata": {},
   "source": [
    "# Subsetting rows\n",
    "A large part of data science is about finding which bits of your dataset are interesting. One of the simplest techniques for this is to find a subset of rows that match some criteria. This is sometimes known as filtering rows or selecting rows."
   ]
  },
  {
   "cell_type": "code",
   "execution_count": 153,
   "id": "6e77c989",
   "metadata": {
    "scrolled": true
   },
   "outputs": [
    {
     "data": {
      "text/html": [
       "<div>\n",
       "<style scoped>\n",
       "    .dataframe tbody tr th:only-of-type {\n",
       "        vertical-align: middle;\n",
       "    }\n",
       "\n",
       "    .dataframe tbody tr th {\n",
       "        vertical-align: top;\n",
       "    }\n",
       "\n",
       "    .dataframe thead th {\n",
       "        text-align: right;\n",
       "    }\n",
       "</style>\n",
       "<table border=\"1\" class=\"dataframe\">\n",
       "  <thead>\n",
       "    <tr style=\"text-align: right;\">\n",
       "      <th></th>\n",
       "      <th>VisitID</th>\n",
       "      <th>PatientMRN</th>\n",
       "      <th>ProviderID</th>\n",
       "      <th>DateofVisit</th>\n",
       "      <th>DateScheduled</th>\n",
       "      <th>VisitDepartmentID</th>\n",
       "      <th>VisitType</th>\n",
       "      <th>BloodPressureSystolic</th>\n",
       "      <th>BloodPressureDiastolic</th>\n",
       "      <th>Pulse</th>\n",
       "      <th>VisitStatus</th>\n",
       "    </tr>\n",
       "  </thead>\n",
       "  <tbody>\n",
       "    <tr>\n",
       "      <th>161</th>\n",
       "      <td>6</td>\n",
       "      <td>9</td>\n",
       "      <td>33</td>\n",
       "      <td>2019-01-06</td>\n",
       "      <td>2018-12-30 02:29:05.022</td>\n",
       "      <td>6</td>\n",
       "      <td>New</td>\n",
       "      <td>128.0</td>\n",
       "      <td>95.134031</td>\n",
       "      <td>54.930794</td>\n",
       "      <td>Completed</td>\n",
       "    </tr>\n",
       "    <tr>\n",
       "      <th>168</th>\n",
       "      <td>471</td>\n",
       "      <td>855</td>\n",
       "      <td>27</td>\n",
       "      <td>2019-04-23</td>\n",
       "      <td>2019-04-09 07:26:56.486</td>\n",
       "      <td>2</td>\n",
       "      <td>New</td>\n",
       "      <td>184.0</td>\n",
       "      <td>123.897969</td>\n",
       "      <td>59.512667</td>\n",
       "      <td>Completed</td>\n",
       "    </tr>\n",
       "    <tr>\n",
       "      <th>251</th>\n",
       "      <td>888</td>\n",
       "      <td>906</td>\n",
       "      <td>24</td>\n",
       "      <td>2019-03-31</td>\n",
       "      <td>2019-03-17 23:21:17.361</td>\n",
       "      <td>10</td>\n",
       "      <td>New</td>\n",
       "      <td>190.0</td>\n",
       "      <td>137.207999</td>\n",
       "      <td>52.666922</td>\n",
       "      <td>Completed</td>\n",
       "    </tr>\n",
       "    <tr>\n",
       "      <th>283</th>\n",
       "      <td>102</td>\n",
       "      <td>509</td>\n",
       "      <td>26</td>\n",
       "      <td>2019-04-12</td>\n",
       "      <td>2019-03-18 12:36:27.638</td>\n",
       "      <td>6</td>\n",
       "      <td>New</td>\n",
       "      <td>139.0</td>\n",
       "      <td>80.422726</td>\n",
       "      <td>54.678450</td>\n",
       "      <td>Completed</td>\n",
       "    </tr>\n",
       "    <tr>\n",
       "      <th>285</th>\n",
       "      <td>466</td>\n",
       "      <td>850</td>\n",
       "      <td>21</td>\n",
       "      <td>2019-04-18</td>\n",
       "      <td>2019-04-15 01:39:01.462</td>\n",
       "      <td>9</td>\n",
       "      <td>New</td>\n",
       "      <td>145.0</td>\n",
       "      <td>109.595864</td>\n",
       "      <td>50.699982</td>\n",
       "      <td>Completed</td>\n",
       "    </tr>\n",
       "    <tr>\n",
       "      <th>312</th>\n",
       "      <td>11</td>\n",
       "      <td>14</td>\n",
       "      <td>11</td>\n",
       "      <td>2019-01-11</td>\n",
       "      <td>2019-01-01 23:59:33.854</td>\n",
       "      <td>11</td>\n",
       "      <td>New</td>\n",
       "      <td>149.0</td>\n",
       "      <td>94.906174</td>\n",
       "      <td>55.380315</td>\n",
       "      <td>Completed</td>\n",
       "    </tr>\n",
       "    <tr>\n",
       "      <th>374</th>\n",
       "      <td>458</td>\n",
       "      <td>842</td>\n",
       "      <td>13</td>\n",
       "      <td>2019-04-10</td>\n",
       "      <td>2019-03-30 14:39:08.110</td>\n",
       "      <td>1</td>\n",
       "      <td>New</td>\n",
       "      <td>125.0</td>\n",
       "      <td>92.757206</td>\n",
       "      <td>56.531161</td>\n",
       "      <td>Completed</td>\n",
       "    </tr>\n",
       "    <tr>\n",
       "      <th>429</th>\n",
       "      <td>18</td>\n",
       "      <td>21</td>\n",
       "      <td>28</td>\n",
       "      <td>2019-01-18</td>\n",
       "      <td>2019-01-04 19:36:34.217</td>\n",
       "      <td>6</td>\n",
       "      <td>New</td>\n",
       "      <td>174.0</td>\n",
       "      <td>108.087686</td>\n",
       "      <td>53.077546</td>\n",
       "      <td>Completed</td>\n",
       "    </tr>\n",
       "    <tr>\n",
       "      <th>444</th>\n",
       "      <td>469</td>\n",
       "      <td>853</td>\n",
       "      <td>1</td>\n",
       "      <td>2019-04-21</td>\n",
       "      <td>2019-04-01 11:52:33.398</td>\n",
       "      <td>12</td>\n",
       "      <td>New</td>\n",
       "      <td>145.0</td>\n",
       "      <td>89.138239</td>\n",
       "      <td>55.034774</td>\n",
       "      <td>Completed</td>\n",
       "    </tr>\n",
       "    <tr>\n",
       "      <th>454</th>\n",
       "      <td>107</td>\n",
       "      <td>524</td>\n",
       "      <td>31</td>\n",
       "      <td>2019-04-17</td>\n",
       "      <td>2019-04-07 00:23:47.398</td>\n",
       "      <td>11</td>\n",
       "      <td>New</td>\n",
       "      <td>172.0</td>\n",
       "      <td>131.598648</td>\n",
       "      <td>59.048195</td>\n",
       "      <td>Completed</td>\n",
       "    </tr>\n",
       "    <tr>\n",
       "      <th>536</th>\n",
       "      <td>15</td>\n",
       "      <td>18</td>\n",
       "      <td>36</td>\n",
       "      <td>2019-01-15</td>\n",
       "      <td>2019-01-13 00:56:00.811</td>\n",
       "      <td>3</td>\n",
       "      <td>New</td>\n",
       "      <td>144.0</td>\n",
       "      <td>87.310438</td>\n",
       "      <td>57.195904</td>\n",
       "      <td>Completed</td>\n",
       "    </tr>\n",
       "    <tr>\n",
       "      <th>542</th>\n",
       "      <td>104</td>\n",
       "      <td>515</td>\n",
       "      <td>28</td>\n",
       "      <td>2019-04-14</td>\n",
       "      <td>2019-04-04 11:52:56.226</td>\n",
       "      <td>8</td>\n",
       "      <td>New</td>\n",
       "      <td>185.0</td>\n",
       "      <td>118.989508</td>\n",
       "      <td>50.373522</td>\n",
       "      <td>Completed</td>\n",
       "    </tr>\n",
       "    <tr>\n",
       "      <th>577</th>\n",
       "      <td>22</td>\n",
       "      <td>25</td>\n",
       "      <td>31</td>\n",
       "      <td>2019-01-22</td>\n",
       "      <td>2019-01-09 03:34:41.291</td>\n",
       "      <td>10</td>\n",
       "      <td>New</td>\n",
       "      <td>153.0</td>\n",
       "      <td>118.808087</td>\n",
       "      <td>57.156601</td>\n",
       "      <td>Completed</td>\n",
       "    </tr>\n",
       "    <tr>\n",
       "      <th>602</th>\n",
       "      <td>476</td>\n",
       "      <td>860</td>\n",
       "      <td>8</td>\n",
       "      <td>2019-04-28</td>\n",
       "      <td>2019-03-30 22:50:16.976</td>\n",
       "      <td>7</td>\n",
       "      <td>New</td>\n",
       "      <td>136.0</td>\n",
       "      <td>97.241362</td>\n",
       "      <td>58.728234</td>\n",
       "      <td>Completed</td>\n",
       "    </tr>\n",
       "    <tr>\n",
       "      <th>648</th>\n",
       "      <td>126</td>\n",
       "      <td>581</td>\n",
       "      <td>5</td>\n",
       "      <td>2019-01-02</td>\n",
       "      <td>2018-12-06 22:40:43.282</td>\n",
       "      <td>6</td>\n",
       "      <td>New</td>\n",
       "      <td>150.0</td>\n",
       "      <td>104.148850</td>\n",
       "      <td>59.907306</td>\n",
       "      <td>Completed</td>\n",
       "    </tr>\n",
       "    <tr>\n",
       "      <th>668</th>\n",
       "      <td>2</td>\n",
       "      <td>5</td>\n",
       "      <td>2</td>\n",
       "      <td>2019-01-02</td>\n",
       "      <td>2018-12-20 12:52:48.286</td>\n",
       "      <td>2</td>\n",
       "      <td>New</td>\n",
       "      <td>158.0</td>\n",
       "      <td>116.151006</td>\n",
       "      <td>59.360770</td>\n",
       "      <td>Completed</td>\n",
       "    </tr>\n",
       "    <tr>\n",
       "      <th>712</th>\n",
       "      <td>13</td>\n",
       "      <td>16</td>\n",
       "      <td>13</td>\n",
       "      <td>2019-01-13</td>\n",
       "      <td>2018-12-24 20:23:41.090</td>\n",
       "      <td>1</td>\n",
       "      <td>New</td>\n",
       "      <td>157.0</td>\n",
       "      <td>101.548557</td>\n",
       "      <td>56.549679</td>\n",
       "      <td>Completed</td>\n",
       "    </tr>\n",
       "    <tr>\n",
       "      <th>794</th>\n",
       "      <td>7</td>\n",
       "      <td>10</td>\n",
       "      <td>7</td>\n",
       "      <td>2019-01-07</td>\n",
       "      <td>2018-12-13 08:43:54.184</td>\n",
       "      <td>7</td>\n",
       "      <td>New</td>\n",
       "      <td>175.0</td>\n",
       "      <td>126.613291</td>\n",
       "      <td>50.551146</td>\n",
       "      <td>Completed</td>\n",
       "    </tr>\n",
       "    <tr>\n",
       "      <th>821</th>\n",
       "      <td>106</td>\n",
       "      <td>521</td>\n",
       "      <td>30</td>\n",
       "      <td>2019-04-16</td>\n",
       "      <td>2019-03-26 04:27:09.738</td>\n",
       "      <td>10</td>\n",
       "      <td>New</td>\n",
       "      <td>135.0</td>\n",
       "      <td>79.979498</td>\n",
       "      <td>55.692978</td>\n",
       "      <td>Completed</td>\n",
       "    </tr>\n",
       "    <tr>\n",
       "      <th>837</th>\n",
       "      <td>473</td>\n",
       "      <td>857</td>\n",
       "      <td>5</td>\n",
       "      <td>2019-04-25</td>\n",
       "      <td>2019-04-11 23:43:36.702</td>\n",
       "      <td>4</td>\n",
       "      <td>New</td>\n",
       "      <td>140.0</td>\n",
       "      <td>100.385138</td>\n",
       "      <td>57.131529</td>\n",
       "      <td>Completed</td>\n",
       "    </tr>\n",
       "    <tr>\n",
       "      <th>849</th>\n",
       "      <td>1</td>\n",
       "      <td>4</td>\n",
       "      <td>1</td>\n",
       "      <td>2019-01-01</td>\n",
       "      <td>2018-12-17 09:08:02.824</td>\n",
       "      <td>1</td>\n",
       "      <td>New</td>\n",
       "      <td>175.0</td>\n",
       "      <td>139.096031</td>\n",
       "      <td>56.678398</td>\n",
       "      <td>Completed</td>\n",
       "    </tr>\n",
       "    <tr>\n",
       "      <th>875</th>\n",
       "      <td>882</td>\n",
       "      <td>900</td>\n",
       "      <td>18</td>\n",
       "      <td>2019-03-25</td>\n",
       "      <td>2019-03-24 08:45:48.755</td>\n",
       "      <td>12</td>\n",
       "      <td>New</td>\n",
       "      <td>124.0</td>\n",
       "      <td>80.011129</td>\n",
       "      <td>56.630750</td>\n",
       "      <td>Completed</td>\n",
       "    </tr>\n",
       "  </tbody>\n",
       "</table>\n",
       "</div>"
      ],
      "text/plain": [
       "     VisitID  PatientMRN  ProviderID DateofVisit           DateScheduled  \\\n",
       "161        6           9          33  2019-01-06 2018-12-30 02:29:05.022   \n",
       "168      471         855          27  2019-04-23 2019-04-09 07:26:56.486   \n",
       "251      888         906          24  2019-03-31 2019-03-17 23:21:17.361   \n",
       "283      102         509          26  2019-04-12 2019-03-18 12:36:27.638   \n",
       "285      466         850          21  2019-04-18 2019-04-15 01:39:01.462   \n",
       "312       11          14          11  2019-01-11 2019-01-01 23:59:33.854   \n",
       "374      458         842          13  2019-04-10 2019-03-30 14:39:08.110   \n",
       "429       18          21          28  2019-01-18 2019-01-04 19:36:34.217   \n",
       "444      469         853           1  2019-04-21 2019-04-01 11:52:33.398   \n",
       "454      107         524          31  2019-04-17 2019-04-07 00:23:47.398   \n",
       "536       15          18          36  2019-01-15 2019-01-13 00:56:00.811   \n",
       "542      104         515          28  2019-04-14 2019-04-04 11:52:56.226   \n",
       "577       22          25          31  2019-01-22 2019-01-09 03:34:41.291   \n",
       "602      476         860           8  2019-04-28 2019-03-30 22:50:16.976   \n",
       "648      126         581           5  2019-01-02 2018-12-06 22:40:43.282   \n",
       "668        2           5           2  2019-01-02 2018-12-20 12:52:48.286   \n",
       "712       13          16          13  2019-01-13 2018-12-24 20:23:41.090   \n",
       "794        7          10           7  2019-01-07 2018-12-13 08:43:54.184   \n",
       "821      106         521          30  2019-04-16 2019-03-26 04:27:09.738   \n",
       "837      473         857           5  2019-04-25 2019-04-11 23:43:36.702   \n",
       "849        1           4           1  2019-01-01 2018-12-17 09:08:02.824   \n",
       "875      882         900          18  2019-03-25 2019-03-24 08:45:48.755   \n",
       "\n",
       "     VisitDepartmentID VisitType  BloodPressureSystolic  \\\n",
       "161                  6       New                  128.0   \n",
       "168                  2       New                  184.0   \n",
       "251                 10       New                  190.0   \n",
       "283                  6       New                  139.0   \n",
       "285                  9       New                  145.0   \n",
       "312                 11       New                  149.0   \n",
       "374                  1       New                  125.0   \n",
       "429                  6       New                  174.0   \n",
       "444                 12       New                  145.0   \n",
       "454                 11       New                  172.0   \n",
       "536                  3       New                  144.0   \n",
       "542                  8       New                  185.0   \n",
       "577                 10       New                  153.0   \n",
       "602                  7       New                  136.0   \n",
       "648                  6       New                  150.0   \n",
       "668                  2       New                  158.0   \n",
       "712                  1       New                  157.0   \n",
       "794                  7       New                  175.0   \n",
       "821                 10       New                  135.0   \n",
       "837                  4       New                  140.0   \n",
       "849                  1       New                  175.0   \n",
       "875                 12       New                  124.0   \n",
       "\n",
       "     BloodPressureDiastolic      Pulse VisitStatus  \n",
       "161               95.134031  54.930794   Completed  \n",
       "168              123.897969  59.512667   Completed  \n",
       "251              137.207999  52.666922   Completed  \n",
       "283               80.422726  54.678450   Completed  \n",
       "285              109.595864  50.699982   Completed  \n",
       "312               94.906174  55.380315   Completed  \n",
       "374               92.757206  56.531161   Completed  \n",
       "429              108.087686  53.077546   Completed  \n",
       "444               89.138239  55.034774   Completed  \n",
       "454              131.598648  59.048195   Completed  \n",
       "536               87.310438  57.195904   Completed  \n",
       "542              118.989508  50.373522   Completed  \n",
       "577              118.808087  57.156601   Completed  \n",
       "602               97.241362  58.728234   Completed  \n",
       "648              104.148850  59.907306   Completed  \n",
       "668              116.151006  59.360770   Completed  \n",
       "712              101.548557  56.549679   Completed  \n",
       "794              126.613291  50.551146   Completed  \n",
       "821               79.979498  55.692978   Completed  \n",
       "837              100.385138  57.131529   Completed  \n",
       "849              139.096031  56.678398   Completed  \n",
       "875               80.011129  56.630750   Completed  "
      ]
     },
     "execution_count": 153,
     "metadata": {},
     "output_type": "execute_result"
    }
   ],
   "source": [
    "# Filter all rows Pulse < 60 and VisitType is New.\n",
    "dfav[(dfav[\"Pulse\"] < 60) & (dfav[\"VisitType\"] ==\"New\")]"
   ]
  },
  {
   "cell_type": "markdown",
   "id": "3aa0f2f5",
   "metadata": {},
   "source": [
    "# Aggregating DataFrames"
   ]
  },
  {
   "cell_type": "markdown",
   "id": "e8f0c801",
   "metadata": {},
   "source": [
    "# Summary Statistics"
   ]
  },
  {
   "cell_type": "code",
   "execution_count": 154,
   "id": "ae598de1",
   "metadata": {
    "scrolled": true
   },
   "outputs": [
    {
     "name": "stdout",
     "output_type": "stream",
     "text": [
      "<class 'pandas.core.frame.DataFrame'>\n",
      "RangeIndex: 950 entries, 0 to 949\n",
      "Data columns (total 11 columns):\n",
      " #   Column                  Non-Null Count  Dtype         \n",
      "---  ------                  --------------  -----         \n",
      " 0   VisitID                 950 non-null    int64         \n",
      " 1   PatientMRN              950 non-null    int64         \n",
      " 2   ProviderID              950 non-null    int64         \n",
      " 3   DateofVisit             950 non-null    datetime64[ns]\n",
      " 4   DateScheduled           950 non-null    datetime64[ns]\n",
      " 5   VisitDepartmentID       950 non-null    int64         \n",
      " 6   VisitType               950 non-null    object        \n",
      " 7   BloodPressureSystolic   826 non-null    float64       \n",
      " 8   BloodPressureDiastolic  826 non-null    float64       \n",
      " 9   Pulse                   826 non-null    float64       \n",
      " 10  VisitStatus             950 non-null    object        \n",
      "dtypes: datetime64[ns](2), float64(3), int64(4), object(2)\n",
      "memory usage: 81.8+ KB\n"
     ]
    }
   ],
   "source": [
    "dfav.info()"
   ]
  },
  {
   "cell_type": "raw",
   "id": "d1cdf449",
   "metadata": {},
   "source": [
    "Summary statistics are exactly what they sound like - they summarize many numbers in one statistic. For example, mean, median, minimum, maximum, and standard deviation are summary statistics. Calculating summary statistics allows you to get a better sense of your data, even if there's a lot of it.\n",
    "\n",
    "1) Explore your new DataFrame first by printing the first few rows of the DataFrame.\n",
    "\n",
    "2) Print information about the columns.\n"
   ]
  },
  {
   "cell_type": "code",
   "execution_count": 155,
   "id": "7eb72865",
   "metadata": {
    "scrolled": false
   },
   "outputs": [
    {
     "data": {
      "text/html": [
       "<div>\n",
       "<style scoped>\n",
       "    .dataframe tbody tr th:only-of-type {\n",
       "        vertical-align: middle;\n",
       "    }\n",
       "\n",
       "    .dataframe tbody tr th {\n",
       "        vertical-align: top;\n",
       "    }\n",
       "\n",
       "    .dataframe thead th {\n",
       "        text-align: right;\n",
       "    }\n",
       "</style>\n",
       "<table border=\"1\" class=\"dataframe\">\n",
       "  <thead>\n",
       "    <tr style=\"text-align: right;\">\n",
       "      <th></th>\n",
       "      <th>count</th>\n",
       "      <th>mean</th>\n",
       "      <th>std</th>\n",
       "      <th>min</th>\n",
       "      <th>25%</th>\n",
       "      <th>50%</th>\n",
       "      <th>75%</th>\n",
       "      <th>max</th>\n",
       "    </tr>\n",
       "  </thead>\n",
       "  <tbody>\n",
       "    <tr>\n",
       "      <th>VisitID</th>\n",
       "      <td>950.0</td>\n",
       "      <td>475.500000</td>\n",
       "      <td>274.385677</td>\n",
       "      <td>1.000000</td>\n",
       "      <td>238.250000</td>\n",
       "      <td>475.500000</td>\n",
       "      <td>712.750000</td>\n",
       "      <td>950.000000</td>\n",
       "    </tr>\n",
       "    <tr>\n",
       "      <th>PatientMRN</th>\n",
       "      <td>950.0</td>\n",
       "      <td>592.648421</td>\n",
       "      <td>345.126034</td>\n",
       "      <td>4.000000</td>\n",
       "      <td>93.250000</td>\n",
       "      <td>813.500000</td>\n",
       "      <td>871.000000</td>\n",
       "      <td>917.000000</td>\n",
       "    </tr>\n",
       "    <tr>\n",
       "      <th>ProviderID</th>\n",
       "      <td>950.0</td>\n",
       "      <td>18.638947</td>\n",
       "      <td>11.392470</td>\n",
       "      <td>1.000000</td>\n",
       "      <td>9.000000</td>\n",
       "      <td>18.000000</td>\n",
       "      <td>29.000000</td>\n",
       "      <td>40.000000</td>\n",
       "    </tr>\n",
       "    <tr>\n",
       "      <th>VisitDepartmentID</th>\n",
       "      <td>950.0</td>\n",
       "      <td>7.252632</td>\n",
       "      <td>3.262549</td>\n",
       "      <td>1.000000</td>\n",
       "      <td>5.000000</td>\n",
       "      <td>7.000000</td>\n",
       "      <td>10.000000</td>\n",
       "      <td>12.000000</td>\n",
       "    </tr>\n",
       "    <tr>\n",
       "      <th>BloodPressureSystolic</th>\n",
       "      <td>826.0</td>\n",
       "      <td>155.815981</td>\n",
       "      <td>20.508743</td>\n",
       "      <td>120.000000</td>\n",
       "      <td>137.000000</td>\n",
       "      <td>156.000000</td>\n",
       "      <td>174.000000</td>\n",
       "      <td>190.000000</td>\n",
       "    </tr>\n",
       "    <tr>\n",
       "      <th>BloodPressureDiastolic</th>\n",
       "      <td>826.0</td>\n",
       "      <td>106.841232</td>\n",
       "      <td>23.219744</td>\n",
       "      <td>51.695653</td>\n",
       "      <td>88.066185</td>\n",
       "      <td>107.460231</td>\n",
       "      <td>123.740114</td>\n",
       "      <td>157.296683</td>\n",
       "    </tr>\n",
       "    <tr>\n",
       "      <th>Pulse</th>\n",
       "      <td>826.0</td>\n",
       "      <td>74.464751</td>\n",
       "      <td>14.419596</td>\n",
       "      <td>50.072068</td>\n",
       "      <td>62.282399</td>\n",
       "      <td>73.642034</td>\n",
       "      <td>86.417593</td>\n",
       "      <td>99.986463</td>\n",
       "    </tr>\n",
       "  </tbody>\n",
       "</table>\n",
       "</div>"
      ],
      "text/plain": [
       "                        count        mean         std         min         25%  \\\n",
       "VisitID                 950.0  475.500000  274.385677    1.000000  238.250000   \n",
       "PatientMRN              950.0  592.648421  345.126034    4.000000   93.250000   \n",
       "ProviderID              950.0   18.638947   11.392470    1.000000    9.000000   \n",
       "VisitDepartmentID       950.0    7.252632    3.262549    1.000000    5.000000   \n",
       "BloodPressureSystolic   826.0  155.815981   20.508743  120.000000  137.000000   \n",
       "BloodPressureDiastolic  826.0  106.841232   23.219744   51.695653   88.066185   \n",
       "Pulse                   826.0   74.464751   14.419596   50.072068   62.282399   \n",
       "\n",
       "                               50%         75%         max  \n",
       "VisitID                 475.500000  712.750000  950.000000  \n",
       "PatientMRN              813.500000  871.000000  917.000000  \n",
       "ProviderID               18.000000   29.000000   40.000000  \n",
       "VisitDepartmentID         7.000000   10.000000   12.000000  \n",
       "BloodPressureSystolic   156.000000  174.000000  190.000000  \n",
       "BloodPressureDiastolic  107.460231  123.740114  157.296683  \n",
       "Pulse                    73.642034   86.417593   99.986463  "
      ]
     },
     "execution_count": 155,
     "metadata": {},
     "output_type": "execute_result"
    }
   ],
   "source": [
    "#Statistical Description of all the Quantitative columns\n",
    "dfav.describe().transpose()"
   ]
  },
  {
   "cell_type": "markdown",
   "id": "4ea3f55a",
   "metadata": {},
   "source": [
    "# Mean and median\n",
    "\n",
    " Print the mean of a column.\n",
    "\n",
    " Print the median of a column."
   ]
  },
  {
   "cell_type": "code",
   "execution_count": 156,
   "id": "bc30adf3",
   "metadata": {
    "scrolled": true
   },
   "outputs": [
    {
     "name": "stdout",
     "output_type": "stream",
     "text": [
      "Mean : 74.46475095516948\n",
      "Meadian :  73.64203401\n"
     ]
    }
   ],
   "source": [
    "# Print the mean of Pulse\n",
    "print('Mean :',dfav[\"Pulse\"].mean())\n",
    "\n",
    "# Print the median of weekly_sales\n",
    "print('Meadian : ',dfav[\"Pulse\"].median())"
   ]
  },
  {
   "cell_type": "markdown",
   "id": "668151d7",
   "metadata": {},
   "source": [
    "# Summarizing dates\n",
    "Summary statistics can also be calculated on date columns that have values with the data type datetime64. Some summary statistics — like mean — don't make a ton of sense on dates, but others are super helpful, for example, minimum and maximum, which allow you to see what time range your data covers."
   ]
  },
  {
   "cell_type": "code",
   "execution_count": 157,
   "id": "a604fed0",
   "metadata": {},
   "outputs": [
    {
     "name": "stdout",
     "output_type": "stream",
     "text": [
      "2019-05-04 00:00:00\n",
      "2019-01-01 00:00:00\n"
     ]
    }
   ],
   "source": [
    "# Print the maximum of the date column\n",
    "print(dfav[\"DateofVisit\"].max())\n",
    "\n",
    "# Print the minimum of the date column\n",
    "print(dfav[\"DateofVisit\"].min())"
   ]
  },
  {
   "cell_type": "code",
   "execution_count": 158,
   "id": "c1830e60",
   "metadata": {
    "scrolled": false
   },
   "outputs": [
    {
     "data": {
      "text/plain": [
       "VisitID                            int64\n",
       "PatientMRN                         int64\n",
       "ProviderID                         int64\n",
       "DateofVisit               datetime64[ns]\n",
       "DateScheduled             datetime64[ns]\n",
       "VisitDepartmentID                  int64\n",
       "VisitType                         object\n",
       "BloodPressureSystolic            float64\n",
       "BloodPressureDiastolic           float64\n",
       "Pulse                            float64\n",
       "VisitStatus                       object\n",
       "dtype: object"
      ]
     },
     "execution_count": 158,
     "metadata": {},
     "output_type": "execute_result"
    }
   ],
   "source": [
    "#To get Datatypes of all columns\n",
    "dfav.dtypes"
   ]
  },
  {
   "cell_type": "code",
   "execution_count": 159,
   "id": "6ab051fd",
   "metadata": {
    "scrolled": true
   },
   "outputs": [
    {
     "data": {
      "text/plain": [
       "Index(['VisitID', 'PatientMRN', 'ProviderID', 'DateofVisit', 'DateScheduled',\n",
       "       'VisitDepartmentID', 'VisitType', 'BloodPressureSystolic',\n",
       "       'BloodPressureDiastolic', 'Pulse', 'VisitStatus'],\n",
       "      dtype='object')"
      ]
     },
     "execution_count": 159,
     "metadata": {},
     "output_type": "execute_result"
    }
   ],
   "source": [
    "#To show all colums\n",
    "dfav.columns"
   ]
  },
  {
   "cell_type": "code",
   "execution_count": 160,
   "id": "d4d65857",
   "metadata": {},
   "outputs": [
    {
     "data": {
      "text/plain": [
       "VisitID                   950\n",
       "PatientMRN                273\n",
       "ProviderID                 40\n",
       "DateofVisit               124\n",
       "DateScheduled             950\n",
       "VisitDepartmentID          12\n",
       "VisitType                   4\n",
       "BloodPressureSystolic      71\n",
       "BloodPressureDiastolic    826\n",
       "Pulse                     826\n",
       "VisitStatus                 3\n",
       "dtype: int64"
      ]
     },
     "execution_count": 160,
     "metadata": {},
     "output_type": "execute_result"
    }
   ],
   "source": [
    "#To know Unique values\n",
    "dfav.nunique()"
   ]
  },
  {
   "cell_type": "markdown",
   "id": "05ae7495",
   "metadata": {},
   "source": [
    "# NullValues"
   ]
  },
  {
   "cell_type": "code",
   "execution_count": 161,
   "id": "0f2aeb56",
   "metadata": {
    "scrolled": true
   },
   "outputs": [
    {
     "data": {
      "text/plain": [
       "VisitID                     0\n",
       "PatientMRN                  0\n",
       "ProviderID                  0\n",
       "DateofVisit                 0\n",
       "DateScheduled               0\n",
       "VisitDepartmentID           0\n",
       "VisitType                   0\n",
       "BloodPressureSystolic     124\n",
       "BloodPressureDiastolic    124\n",
       "Pulse                     124\n",
       "VisitStatus                 0\n",
       "dtype: int64"
      ]
     },
     "execution_count": 161,
     "metadata": {},
     "output_type": "execute_result"
    }
   ],
   "source": [
    "#To find No.of Null Values\n",
    "dfav.isnull().sum()"
   ]
  },
  {
   "cell_type": "code",
   "execution_count": 162,
   "id": "e01bb72c",
   "metadata": {},
   "outputs": [
    {
     "data": {
      "text/plain": [
       "VisitID                    0.000000\n",
       "PatientMRN                 0.000000\n",
       "ProviderID                 0.000000\n",
       "DateofVisit                0.000000\n",
       "DateScheduled              0.000000\n",
       "VisitDepartmentID          0.000000\n",
       "VisitType                  0.000000\n",
       "BloodPressureSystolic     13.052632\n",
       "BloodPressureDiastolic    13.052632\n",
       "Pulse                     13.052632\n",
       "VisitStatus                0.000000\n",
       "dtype: float64"
      ]
     },
     "execution_count": 162,
     "metadata": {},
     "output_type": "execute_result"
    }
   ],
   "source": [
    "#To find nullvalues in Percentage\n",
    "dfav.isnull().sum()/dfav.shape[0]*100"
   ]
  },
  {
   "cell_type": "markdown",
   "id": "95c34758",
   "metadata": {},
   "source": [
    "# Dropping duplicates\n",
    "Removing duplicates is an essential skill to get accurate counts because often, you don't want to count the same thing multiple times."
   ]
  },
  {
   "cell_type": "code",
   "execution_count": 163,
   "id": "266d23d0",
   "metadata": {},
   "outputs": [
    {
     "name": "stdout",
     "output_type": "stream",
     "text": [
      "(0, 11)\n"
     ]
    }
   ],
   "source": [
    "# To check Duplicate values\n",
    "duplicate_rows_dfav=dfav[dfav.duplicated()]\n",
    "print(duplicate_rows_dfav.shape)"
   ]
  },
  {
   "cell_type": "markdown",
   "id": "3893076c",
   "metadata": {},
   "source": [
    "# Grouped summary statistics\n",
    "What percent of sales occurred at each store type?\n",
    "\n",
    "While .groupby() is useful, you can calculate grouped summary statistics without it."
   ]
  },
  {
   "cell_type": "code",
   "execution_count": 135,
   "id": "ccbd7c09",
   "metadata": {},
   "outputs": [
    {
     "data": {
      "text/html": [
       "<div>\n",
       "<style scoped>\n",
       "    .dataframe tbody tr th:only-of-type {\n",
       "        vertical-align: middle;\n",
       "    }\n",
       "\n",
       "    .dataframe tbody tr th {\n",
       "        vertical-align: top;\n",
       "    }\n",
       "\n",
       "    .dataframe thead th {\n",
       "        text-align: right;\n",
       "    }\n",
       "</style>\n",
       "<table border=\"1\" class=\"dataframe\">\n",
       "  <thead>\n",
       "    <tr style=\"text-align: right;\">\n",
       "      <th></th>\n",
       "      <th>PatientMRN</th>\n",
       "    </tr>\n",
       "    <tr>\n",
       "      <th>VisitDepartmentID</th>\n",
       "      <th></th>\n",
       "    </tr>\n",
       "  </thead>\n",
       "  <tbody>\n",
       "    <tr>\n",
       "      <th>1</th>\n",
       "      <td>51</td>\n",
       "    </tr>\n",
       "    <tr>\n",
       "      <th>2</th>\n",
       "      <td>51</td>\n",
       "    </tr>\n",
       "    <tr>\n",
       "      <th>3</th>\n",
       "      <td>51</td>\n",
       "    </tr>\n",
       "    <tr>\n",
       "      <th>4</th>\n",
       "      <td>51</td>\n",
       "    </tr>\n",
       "    <tr>\n",
       "      <th>5</th>\n",
       "      <td>92</td>\n",
       "    </tr>\n",
       "    <tr>\n",
       "      <th>6</th>\n",
       "      <td>92</td>\n",
       "    </tr>\n",
       "    <tr>\n",
       "      <th>7</th>\n",
       "      <td>93</td>\n",
       "    </tr>\n",
       "    <tr>\n",
       "      <th>8</th>\n",
       "      <td>93</td>\n",
       "    </tr>\n",
       "    <tr>\n",
       "      <th>9</th>\n",
       "      <td>79</td>\n",
       "    </tr>\n",
       "    <tr>\n",
       "      <th>10</th>\n",
       "      <td>100</td>\n",
       "    </tr>\n",
       "    <tr>\n",
       "      <th>11</th>\n",
       "      <td>102</td>\n",
       "    </tr>\n",
       "    <tr>\n",
       "      <th>12</th>\n",
       "      <td>95</td>\n",
       "    </tr>\n",
       "  </tbody>\n",
       "</table>\n",
       "</div>"
      ],
      "text/plain": [
       "                   PatientMRN\n",
       "VisitDepartmentID            \n",
       "1                          51\n",
       "2                          51\n",
       "3                          51\n",
       "4                          51\n",
       "5                          92\n",
       "6                          92\n",
       "7                          93\n",
       "8                          93\n",
       "9                          79\n",
       "10                        100\n",
       "11                        102\n",
       "12                         95"
      ]
     },
     "execution_count": 135,
     "metadata": {},
     "output_type": "execute_result"
    }
   ],
   "source": [
    "dfav.groupby(['VisitDepartmentID'])[['PatientMRN']].count()"
   ]
  },
  {
   "cell_type": "markdown",
   "id": "a830593b",
   "metadata": {},
   "source": [
    "# Pivot tables\n",
    "\n",
    "Pivot tables are the standard way of aggregating data in spreadsheets. In pandas, pivot tables are essentially just another way of performing grouped calculations. That is, the pivot_table() method is just an alternative to groupby()."
   ]
  },
  {
   "cell_type": "code",
   "execution_count": 140,
   "id": "61ebc7e3",
   "metadata": {},
   "outputs": [
    {
     "data": {
      "text/html": [
       "<div>\n",
       "<style scoped>\n",
       "    .dataframe tbody tr th:only-of-type {\n",
       "        vertical-align: middle;\n",
       "    }\n",
       "\n",
       "    .dataframe tbody tr th {\n",
       "        vertical-align: top;\n",
       "    }\n",
       "\n",
       "    .dataframe thead th {\n",
       "        text-align: right;\n",
       "    }\n",
       "</style>\n",
       "<table border=\"1\" class=\"dataframe\">\n",
       "  <thead>\n",
       "    <tr style=\"text-align: right;\">\n",
       "      <th></th>\n",
       "      <th></th>\n",
       "      <th>PatientID</th>\n",
       "    </tr>\n",
       "    <tr>\n",
       "      <th>AdmissionDate</th>\n",
       "      <th>DischargeDate_abs</th>\n",
       "      <th></th>\n",
       "    </tr>\n",
       "  </thead>\n",
       "  <tbody>\n",
       "    <tr>\n",
       "      <th rowspan=\"5\" valign=\"top\">2018-01-01</th>\n",
       "      <th>2018-01-04</th>\n",
       "      <td>3</td>\n",
       "    </tr>\n",
       "    <tr>\n",
       "      <th>2018-01-05</th>\n",
       "      <td>2</td>\n",
       "    </tr>\n",
       "    <tr>\n",
       "      <th>2018-01-06</th>\n",
       "      <td>1</td>\n",
       "    </tr>\n",
       "    <tr>\n",
       "      <th>2018-01-07</th>\n",
       "      <td>3</td>\n",
       "    </tr>\n",
       "    <tr>\n",
       "      <th>2018-01-08</th>\n",
       "      <td>1</td>\n",
       "    </tr>\n",
       "    <tr>\n",
       "      <th>...</th>\n",
       "      <th>...</th>\n",
       "      <td>...</td>\n",
       "    </tr>\n",
       "    <tr>\n",
       "      <th rowspan=\"5\" valign=\"top\">2018-02-22</th>\n",
       "      <th>2018-03-05</th>\n",
       "      <td>1</td>\n",
       "    </tr>\n",
       "    <tr>\n",
       "      <th>2018-03-06</th>\n",
       "      <td>1</td>\n",
       "    </tr>\n",
       "    <tr>\n",
       "      <th>2018-03-07</th>\n",
       "      <td>4</td>\n",
       "    </tr>\n",
       "    <tr>\n",
       "      <th>2018-03-08</th>\n",
       "      <td>2</td>\n",
       "    </tr>\n",
       "    <tr>\n",
       "      <th>2018-03-10</th>\n",
       "      <td>2</td>\n",
       "    </tr>\n",
       "  </tbody>\n",
       "</table>\n",
       "<p>459 rows × 1 columns</p>\n",
       "</div>"
      ],
      "text/plain": [
       "                                 PatientID\n",
       "AdmissionDate DischargeDate_abs           \n",
       "2018-01-01    2018-01-04                 3\n",
       "              2018-01-05                 2\n",
       "              2018-01-06                 1\n",
       "              2018-01-07                 3\n",
       "              2018-01-08                 1\n",
       "...                                    ...\n",
       "2018-02-22    2018-03-05                 1\n",
       "              2018-03-06                 1\n",
       "              2018-03-07                 4\n",
       "              2018-03-08                 2\n",
       "              2018-03-10                 2\n",
       "\n",
       "[459 rows x 1 columns]"
      ]
     },
     "execution_count": 140,
     "metadata": {},
     "output_type": "execute_result"
    }
   ],
   "source": [
    "dfreadm['DischargeDate_abs'] = dfreadm['DischargeDate'].dt.date\n",
    "pivot = dfreadm.pivot_table(index=['AdmissionDate','DischargeDate_abs'],values=['PatientID'], aggfunc='count')\n",
    "pivot"
   ]
  },
  {
   "cell_type": "code",
   "execution_count": 141,
   "id": "63a2ae35",
   "metadata": {
    "scrolled": true
   },
   "outputs": [
    {
     "data": {
      "text/plain": [
       "Follow Up       336\n",
       "Telemedicine    284\n",
       "Physical        205\n",
       "New             125\n",
       "Name: VisitType, dtype: int64"
      ]
     },
     "execution_count": 141,
     "metadata": {},
     "output_type": "execute_result"
    }
   ],
   "source": [
    "#To find No.of Patients for each VisitType\n",
    "dfav.VisitType.value_counts()"
   ]
  },
  {
   "cell_type": "code",
   "execution_count": 142,
   "id": "106156b3",
   "metadata": {
    "scrolled": true
   },
   "outputs": [
    {
     "data": {
      "text/plain": [
       "Completed    736\n",
       "No Show      154\n",
       "Canceled      60\n",
       "Name: VisitStatus, dtype: int64"
      ]
     },
     "execution_count": 142,
     "metadata": {},
     "output_type": "execute_result"
    }
   ],
   "source": [
    "#To find No.of Patients for each VisitStatus\n",
    "dfav.VisitStatus.value_counts()"
   ]
  },
  {
   "cell_type": "markdown",
   "id": "32764a69",
   "metadata": {},
   "source": [
    "# Histogram\n",
    "Histogram is a graphical representation where we can easily observe the distribution.It provides us a count of the number of observations in each bin created for visualization."
   ]
  },
  {
   "cell_type": "code",
   "execution_count": 96,
   "id": "d38e0fd9",
   "metadata": {},
   "outputs": [
    {
     "data": {
      "text/plain": [
       "<AxesSubplot:xlabel='Pulse', ylabel='Count'>"
      ]
     },
     "execution_count": 96,
     "metadata": {},
     "output_type": "execute_result"
    },
    {
     "data": {
      "image/png": "[encoded data removed]",
      "text/plain": [
       "<Figure size 432x288 with 1 Axes>"
      ]
     },
     "metadata": {
      "needs_background": "light"
     },
     "output_type": "display_data"
    }
   ],
   "source": [
    "sns.histplot(dfav.Pulse,bins=15)"
   ]
  },
  {
   "cell_type": "markdown",
   "id": "1acb23d5",
   "metadata": {},
   "source": [
    "# Skewness and Kurtosis\n",
    "\n",
    " The skewness is a measure of the asymmetry of the probability distribution.\n",
    " In statistics, we use the kurtosis measure to describe the “tailedness” of the distribution as it describes the shape of it."
   ]
  },
  {
   "cell_type": "code",
   "execution_count": 99,
   "id": "fe3d106b",
   "metadata": {
    "scrolled": false
   },
   "outputs": [
    {
     "data": {
      "text/html": [
       "<div>\n",
       "<style scoped>\n",
       "    .dataframe tbody tr th:only-of-type {\n",
       "        vertical-align: middle;\n",
       "    }\n",
       "\n",
       "    .dataframe tbody tr th {\n",
       "        vertical-align: top;\n",
       "    }\n",
       "\n",
       "    .dataframe thead th {\n",
       "        text-align: right;\n",
       "    }\n",
       "</style>\n",
       "<table border=\"1\" class=\"dataframe\">\n",
       "  <thead>\n",
       "    <tr style=\"text-align: right;\">\n",
       "      <th></th>\n",
       "      <th>skew</th>\n",
       "      <th>kurtosis</th>\n",
       "    </tr>\n",
       "  </thead>\n",
       "  <tbody>\n",
       "    <tr>\n",
       "      <th>VisitID</th>\n",
       "      <td>0.000000</td>\n",
       "      <td>-1.200000</td>\n",
       "    </tr>\n",
       "    <tr>\n",
       "      <th>PatientMRN</th>\n",
       "      <td>-0.735793</td>\n",
       "      <td>-1.208922</td>\n",
       "    </tr>\n",
       "    <tr>\n",
       "      <th>ProviderID</th>\n",
       "      <td>0.158996</td>\n",
       "      <td>-1.204020</td>\n",
       "    </tr>\n",
       "    <tr>\n",
       "      <th>VisitDepartmentID</th>\n",
       "      <td>-0.264638</td>\n",
       "      <td>-0.982350</td>\n",
       "    </tr>\n",
       "    <tr>\n",
       "      <th>BloodPressureSystolic</th>\n",
       "      <td>-0.058250</td>\n",
       "      <td>-1.260471</td>\n",
       "    </tr>\n",
       "    <tr>\n",
       "      <th>BloodPressureDiastolic</th>\n",
       "      <td>-0.044701</td>\n",
       "      <td>-0.752508</td>\n",
       "    </tr>\n",
       "    <tr>\n",
       "      <th>Pulse</th>\n",
       "      <td>0.076395</td>\n",
       "      <td>-1.164295</td>\n",
       "    </tr>\n",
       "  </tbody>\n",
       "</table>\n",
       "</div>"
      ],
      "text/plain": [
       "                            skew  kurtosis\n",
       "VisitID                 0.000000 -1.200000\n",
       "PatientMRN             -0.735793 -1.208922\n",
       "ProviderID              0.158996 -1.204020\n",
       "VisitDepartmentID      -0.264638 -0.982350\n",
       "BloodPressureSystolic  -0.058250 -1.260471\n",
       "BloodPressureDiastolic -0.044701 -0.752508\n",
       "Pulse                   0.076395 -1.164295"
      ]
     },
     "execution_count": 99,
     "metadata": {},
     "output_type": "execute_result"
    }
   ],
   "source": [
    "dfav.agg(['skew','kurtosis']).transpose()"
   ]
  },
  {
   "cell_type": "markdown",
   "id": "c8ea769f",
   "metadata": {},
   "source": [
    "# Boxplot\n",
    "Python Boxplot is a chart that is used to visualize how a given data (variable) is distributed using quartiles."
   ]
  },
  {
   "cell_type": "code",
   "execution_count": 111,
   "id": "941a4f66",
   "metadata": {
    "scrolled": true
   },
   "outputs": [
    {
     "data": {
      "image/png": "[encoded data removed]",
      "text/plain": [
       "<Figure size 432x288 with 1 Axes>"
      ]
     },
     "metadata": {
      "needs_background": "light"
     },
     "output_type": "display_data"
    }
   ],
   "source": [
    "boxplot = dfav.boxplot(column=['Pulse', 'BloodPressureSystolic', 'BloodPressureDiastolic'],grid=False)"
   ]
  },
  {
   "cell_type": "markdown",
   "id": "cfe088d5",
   "metadata": {},
   "source": [
    "# Correlation Matrix\n",
    "We can use a Heatmap to Visualize the Correlation Between Variables\n",
    "\n",
    "The closer the correlation coefficient is to 1, the greener the squares get.                 \n",
    "The closer the correlation coefficient is to -1, the browner the squares get."
   ]
  },
  {
   "cell_type": "code",
   "execution_count": 146,
   "id": "9344faea",
   "metadata": {},
   "outputs": [
    {
     "data": {
      "image/png": "[encoded data removed]",
      "text/plain": [
       "<Figure size 432x288 with 2 Axes>"
      ]
     },
     "metadata": {
      "needs_background": "light"
     },
     "output_type": "display_data"
    }
   ],
   "source": [
    "df = pd.DataFrame(dfav,columns=['Pulse', 'BloodPressureSystolic', 'BloodPressureDiastolic'])\n",
    "#To find relationship between Pulse,BPS & BPD\n",
    "corrMatrix = df.corr()\n",
    "sns.heatmap(corrMatrix, annot=True,cmap='coolwarm')\n",
    "plt.show()"
   ]
  },
  {
   "cell_type": "markdown",
   "id": "e111c71e",
   "metadata": {},
   "source": [
    "# PairPlot\n",
    "A pair plot is a matrix of scatterplots that lets you understand the pairwise relationship between different variables in a dataset."
   ]
  },
  {
   "cell_type": "code",
   "execution_count": 145,
   "id": "2bf9a432",
   "metadata": {
    "scrolled": true
   },
   "outputs": [
    {
     "data": {
      "text/plain": [
       "<seaborn.axisgrid.PairGrid at 0x2022f19b640>"
      ]
     },
     "execution_count": 145,
     "metadata": {},
     "output_type": "execute_result"
    },
    {
     "data": {
      "image/png": "[encoded data removed]",
      "text/plain": [
       "<Figure size 540x540 with 12 Axes>"
      ]
     },
     "metadata": {
      "needs_background": "light"
     },
     "output_type": "display_data"
    }
   ],
   "source": [
    "#To find Pairplot for a dataframe we use seaborn library.\n",
    "sns.pairplot(df)"
   ]
  }
 ],
 "metadata": {
  "kernelspec": {
   "display_name": "Python 3",
   "language": "python",
   "name": "python3"
  },
  "language_info": {
   "codemirror_mode": {
    "name": "ipython",
    "version": 3
   },
   "file_extension": ".py",
   "mimetype": "text/x-python",
   "name": "python",
   "nbconvert_exporter": "python",
   "pygments_lexer": "ipython3",
   "version": "3.8.8"
  }
 },
 "nbformat": 4,
 "nbformat_minor": 5
}

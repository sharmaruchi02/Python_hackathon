{
 "cells": [
  {
   "cell_type": "code",
   "execution_count": null,
   "id": "c191913f",
   "metadata": {},
   "outputs": [],
   "source": [
    "#Importing needed libraries/Modules\n",
    "import pandas as pd\n",
    "import numpy as np\n",
    "import seaborn as sns\n",
    "import matplotlib.pyplot as plt\n",
    "import re # For regular expression\n",
    "from datetime import datetime as dt\n",
    "import sqlite3\n",
    "from sqlalchemy import create_engine\n",
    "import pandasql as ps\n",
    "import math"
   ]
  },
  {
   "cell_type": "code",
   "execution_count": null,
   "id": "8f8809a2",
   "metadata": {},
   "outputs": [],
   "source": [
    "#Defining all dataframes\n",
    "dfpa = pd.read_excel(\"./HospitalDatabase.xlsx\", sheet_name = \"Patients\")\n",
    "dfedv = pd.read_excel(\"HospitalDatabase.xlsx\", sheet_name = \"EDVisits\")\n",
    "dfav = pd.read_excel(\"HospitalDatabase.xlsx\", sheet_name = \"AmbulatoryVisits\")\n",
    "dfreadm = pd.read_excel(\"HospitalDatabase.xlsx\", sheet_name = \"ReAdmissionRegistry\")\n",
    "dfdis = pd.read_excel(\"HospitalDatabase.xlsx\", sheet_name = \"Discharges\")\n",
    "dfpr = pd.read_excel(\"HospitalDatabase.xlsx\", sheet_name = \"Providers\")\n",
    "dfedu = pd.read_excel(\"HospitalDatabase.xlsx\", sheet_name = \"EDUnique\")"
   ]
  }
 ],
 "metadata": {
  "kernelspec": {
   "display_name": "Python 3 (ipykernel)",
   "language": "python",
   "name": "python3"
  },
  "language_info": {
   "codemirror_mode": {
    "name": "ipython",
    "version": 3
   },
   "file_extension": ".py",
   "mimetype": "text/x-python",
   "name": "python",
   "nbconvert_exporter": "python",
   "pygments_lexer": "ipython3",
   "version": "3.9.7"
  }
 },
 "nbformat": 4,
 "nbformat_minor": 5
}

{
 "cells": [
  {
   "cell_type": "code",
   "execution_count": 1,
   "id": "e37201af",
   "metadata": {},
   "outputs": [],
   "source": [
    "import pandas as pd\n",
    "import numpy as np"
   ]
  },
  {
   "cell_type": "code",
   "execution_count": 2,
   "id": "f4c31a6e",
   "metadata": {},
   "outputs": [
    {
     "name": "stdout",
     "output_type": "stream",
     "text": [
      "Multipication of 5 and 6 is 30\n"
     ]
    }
   ],
   "source": [
    "#### Class to find multiplication of two number - Basics\n",
    "class Multiplication:\n",
    "    def multi(self,num1,num2):\n",
    "        print('Multipication of %d and %d is %d' %(num1,num2,num1*num2))\n",
    "        \n",
    "Obj1=Multiplication()\n",
    "Obj1.multi(5,6)\n"
   ]
  },
  {
   "cell_type": "code",
   "execution_count": 6,
   "id": "df56e790",
   "metadata": {},
   "outputs": [
    {
     "name": "stdout",
     "output_type": "stream",
     "text": [
      "Komal is not an adult\n",
      "Ruchi is an adult\n"
     ]
    }
   ],
   "source": [
    "# Showing example of Encapsulation :: Class to find if person is adult or not assuming adult age is >=18 \n",
    "class Adult:\n",
    "    def __init__(self,name,age):\n",
    "        self.name=name\n",
    "        self.age=age\n",
    "        self.__age_param=18\n",
    "    def find_if_adult(self):\n",
    "        if  (self.age >= self.__age_param):\n",
    "            print(\"%s is an adult\"%(self.name))\n",
    "        else:\n",
    "            print(\"%s is not an adult\"%(self.name))\n",
    "        \n",
    "        \n",
    "Obj1=Adult('Komal',10)\n",
    "Obj2=Adult('Ruchi',30)\n",
    "\n",
    "Obj1.find_if_adult()\n",
    "Obj2.find_if_adult()\n"
   ]
  },
  {
   "cell_type": "code",
   "execution_count": 9,
   "id": "7e88a171",
   "metadata": {},
   "outputs": [
    {
     "name": "stdout",
     "output_type": "stream",
     "text": [
      "I am a cat. My name is cutie. I am 4 years old.\n",
      "I talk Meow Meow\n",
      "I am a Human. My name is Alexa. I am 34 years old.\n",
      "I do Chit Chat\n"
     ]
    }
   ],
   "source": [
    "#Showing example of polymorphism , Function identify_me works differently depending on Object type\n",
    "class Cat:\n",
    "    def __init__(self, name, age):\n",
    "        self.name = name\n",
    "        self.age = age\n",
    "\n",
    "    def identify_me(self):\n",
    "        print(f\"I am a cat. My name is {self.name}. I am {self.age} years old.\")\n",
    "\n",
    "    def i_speak(self):\n",
    "        print(\"I talk Meow Meow\")\n",
    "        \n",
    "class Human:\n",
    "    def __init__(self, name, age):\n",
    "        self.name = name\n",
    "        self.age = age\n",
    "\n",
    "    def identify_me(self):\n",
    "        print(f\"I am a Human. My name is {self.name}. I am {self.age} years old.\")\n",
    "\n",
    "    def i_speak(self):\n",
    "        print(\"I do Chit Chat\")      \n",
    "        \n",
    "        \n",
    "C = Cat(\"cutie\",4)\n",
    "H=Human('Alexa',34)\n",
    "\n",
    "C.identify_me()\n",
    "C.i_speak()\n",
    "\n",
    "H.identify_me()\n",
    "H.i_speak()\n",
    "\n"
   ]
  },
  {
   "cell_type": "code",
   "execution_count": 10,
   "id": "7b9911d8",
   "metadata": {},
   "outputs": [
    {
     "name": "stdout",
     "output_type": "stream",
     "text": [
      "I have $1000 \n",
      "My Mom has $5000 \n",
      "My Dad has $4000 \n"
     ]
    }
   ],
   "source": [
    "# Inheritance Class Child is inheriting from Class Mom and Class Dad\n",
    "class Mom:\n",
    "    def __init__(self):\n",
    "        self.mm = 5000\n",
    "        \n",
    "class Dad:\n",
    "    def __init__(self):\n",
    "        self.md = 4000\n",
    "        \n",
    "class Child(Mom,Dad):\n",
    "    def __init__(self, money):\n",
    "        Mom.__init__(self)\n",
    "        Dad.__init__(self)\n",
    "        self.mc = money\n",
    "   \n",
    "    def money_I_own(self):\n",
    "        print(\"I have $%d \"%(self.mc))\n",
    "        print(\"My Mom has $%d \"%(self.mm))\n",
    "        print(\"My Dad has $%d \"%(self.md))\n",
    "          \n",
    "my_child = Child(1000)    \n",
    "\n",
    "my_child.money_I_own() \n",
    "        "
   ]
  }
 ],
 "metadata": {
  "kernelspec": {
   "display_name": "Python 3 (ipykernel)",
   "language": "python",
   "name": "python3"
  },
  "language_info": {
   "codemirror_mode": {
    "name": "ipython",
    "version": 3
   },
   "file_extension": ".py",
   "mimetype": "text/x-python",
   "name": "python",
   "nbconvert_exporter": "python",
   "pygments_lexer": "ipython3",
   "version": "3.9.7"
  }
 },
 "nbformat": 4,
 "nbformat_minor": 5
}
